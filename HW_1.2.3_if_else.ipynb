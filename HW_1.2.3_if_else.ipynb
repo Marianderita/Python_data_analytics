{
  "nbformat": 4,
  "nbformat_minor": 0,
  "metadata": {
    "colab": {
      "provenance": [],
      "include_colab_link": true
    },
    "kernelspec": {
      "name": "python3",
      "display_name": "Python 3"
    },
    "language_info": {
      "name": "python"
    }
  },
  "cells": [
    {
      "cell_type": "markdown",
      "metadata": {
        "id": "view-in-github",
        "colab_type": "text"
      },
      "source": [
        "<a href=\"https://colab.research.google.com/github/Marianderita/Python_data_analytics/blob/main/HW_1.2.3_if_else.ipynb\" target=\"_parent\"><img src=\"https://colab.research.google.com/assets/colab-badge.svg\" alt=\"Open In Colab\"/></a>"
      ]
    },
    {
      "cell_type": "markdown",
      "source": [
        "#Домашнє завдання до теми \"Конструкція if...else\""
      ],
      "metadata": {
        "id": "ZrhGiOYxAAbb"
      }
    },
    {
      "cell_type": "markdown",
      "source": [
        "1. **Перевірка температури:**\n",
        "   - Завдання:\n",
        "     - Дано заздалегідь визначену змінну температури `temperature`. Перевірте її значення.\n",
        "     - Якщо температура вище 25 градусів Цельсія, виведіть \"Це теплий день.\"\n",
        "     - Якщо температура знаходиться в межах від 15 до 25 градусів Цельсія (включно), виведіть \"Це приємний день.\"\n",
        "     - В іншому випадку виведіть \"Це холодний день.\""
      ],
      "metadata": {
        "id": "mpXlwoNP-cWT"
      }
    },
    {
      "cell_type": "code",
      "source": [
        "temperature = 20\n",
        "temperature"
      ],
      "metadata": {
        "id": "fho34W3U-ssw",
        "colab": {
          "base_uri": "https://localhost:8080/"
        },
        "outputId": "4a7da17b-48d1-477b-9bac-12908a4fae63"
      },
      "execution_count": 1,
      "outputs": [
        {
          "output_type": "execute_result",
          "data": {
            "text/plain": [
              "20"
            ]
          },
          "metadata": {},
          "execution_count": 1
        }
      ]
    },
    {
      "cell_type": "code",
      "source": [
        "if temperature>25:\n",
        "  print(\"Це теплий день.\")\n",
        "elif temperature>=15 and temperature<=25:\n",
        "  print(\"Це приємний день.\")\n",
        "else: print(\"Це холодний день.\")"
      ],
      "metadata": {
        "id": "CC3TlffAAPxK",
        "colab": {
          "base_uri": "https://localhost:8080/"
        },
        "outputId": "2eefbc6f-e986-4468-f002-26e81bf4588b"
      },
      "execution_count": 3,
      "outputs": [
        {
          "output_type": "stream",
          "name": "stdout",
          "text": [
            "Це приємний день.\n"
          ]
        }
      ]
    },
    {
      "cell_type": "code",
      "source": [
        "# або\n",
        "if temperature>25:\n",
        "  print(\"Це теплий день.\")\n",
        "elif temperature>=15:\n",
        "  print(\"Це приємний день.\")\n",
        "else: print(\"Це холодний день.\")"
      ],
      "metadata": {
        "colab": {
          "base_uri": "https://localhost:8080/"
        },
        "id": "00zN9v_ziZBj",
        "outputId": "ed3aab68-052f-413f-e484-2b9ebb20a637"
      },
      "execution_count": 4,
      "outputs": [
        {
          "output_type": "stream",
          "name": "stdout",
          "text": [
            "Це приємний день.\n"
          ]
        }
      ]
    },
    {
      "cell_type": "markdown",
      "source": [
        "2. **Калькулятор оцінок:**\n",
        "   - Завдання:\n",
        "     - Дано заздалегідь визначену змінну `score` із результатом іспиту (зі 100 балів). Ваша задача визначити відповідну літеру цієї оцінки за правилами нижче.\n",
        "     - Якщо оцінка 90 або вище, виведіть \"A\".\n",
        "     - Якщо оцінка знаходиться в межах від 80 до 89, виведіть \"B\".\n",
        "     - Якщо оцінка знаходиться в межах від 70 до 79, виведіть \"C\".\n",
        "     - Якщо оцінка знаходиться в межах від 60 до 69, виведіть \"D\".\n",
        "     - В іншому випадку виведіть \"F\".\n",
        "     \n"
      ],
      "metadata": {
        "id": "ANFbi11m-4v_"
      }
    },
    {
      "cell_type": "code",
      "source": [
        "score = 75"
      ],
      "metadata": {
        "id": "2w0dAfBw_ew2"
      },
      "execution_count": 5,
      "outputs": []
    },
    {
      "cell_type": "code",
      "source": [
        "if score>=90:\n",
        "  print(\"A\")\n",
        "elif score>=80:\n",
        "  print(\"B\")\n",
        "elif score>=70:\n",
        "  print(\"C\")\n",
        "elif score>=60:\n",
        "  print(\"D\")\n",
        "else: print(\"F\")"
      ],
      "metadata": {
        "id": "ZdJsRZ0WAQVD",
        "colab": {
          "base_uri": "https://localhost:8080/"
        },
        "outputId": "026fa106-a9ff-41c6-c97f-26dbea04c31a"
      },
      "execution_count": 6,
      "outputs": [
        {
          "output_type": "stream",
          "name": "stdout",
          "text": [
            "C\n"
          ]
        }
      ]
    },
    {
      "cell_type": "markdown",
      "source": [
        "\n",
        "\n",
        "3. **Перевірка на високосний рік:**\n",
        "   - Завдання:\n",
        "     - Дано заздалегідь визначену змінну року `year`. Перевірте, чи є рік високосним роком. Правила для перевірки наведені нижче.\n",
        "     - Якщо рік ділиться на 4 і не ділиться на 100, або він ділиться на 400, виведіть \"Високосний рік\".\n",
        "     - В іншому випадку виведіть \"Не високосний рік\".\n"
      ],
      "metadata": {
        "id": "ohXlepp7_dns"
      }
    },
    {
      "cell_type": "code",
      "source": [
        "year = 2024  # Приклад року"
      ],
      "metadata": {
        "id": "i4OUe6Kh_sAk"
      },
      "execution_count": 22,
      "outputs": []
    },
    {
      "cell_type": "code",
      "source": [
        "if (year % 4 == 0 and year % 100 != 0) or year % 400 == 0:\n",
        "  print(\"Високосний рік\")\n",
        "else: print(\"Не високосний рік\")"
      ],
      "metadata": {
        "id": "yTWX7B4JARhH",
        "colab": {
          "base_uri": "https://localhost:8080/"
        },
        "outputId": "8c384c61-a479-47a0-a0f1-cc77894d743e"
      },
      "execution_count": 23,
      "outputs": [
        {
          "output_type": "stream",
          "name": "stdout",
          "text": [
            "Високосний рік\n"
          ]
        }
      ]
    },
    {
      "cell_type": "code",
      "source": [],
      "metadata": {
        "id": "hOaPpza7kKBj"
      },
      "execution_count": null,
      "outputs": []
    }
  ]
}